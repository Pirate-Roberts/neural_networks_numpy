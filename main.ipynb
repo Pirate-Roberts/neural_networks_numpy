{
 "cells": [
  {
   "cell_type": "code",
   "execution_count": null,
   "id": "8018cb70-018a-4f1b-bfef-78ca45675f12",
   "metadata": {},
   "outputs": [],
   "source": [
    "import numpy as np\n",
    "import matplotlib.pyplot as plt\n",
    "from sklearn.datasets import make_blobs\n",
    "\n",
    "# Custom\n",
    "from perceptron import Perceptron\n",
    "from metrics import accuracy, precision, recall\n",
    "from dataset import load_data_machinelearnia"
   ]
  },
  {
   "attachments": {},
   "cell_type": "markdown",
   "id": "204ebcda",
   "metadata": {},
   "source": [
    "## Perceptron"
   ]
  },
  {
   "attachments": {},
   "cell_type": "markdown",
   "id": "2898375a",
   "metadata": {},
   "source": [
    "### Perceptron on make_blobs"
   ]
  },
  {
   "cell_type": "code",
   "execution_count": null,
   "id": "843b7204-fb23-430c-a41b-1dfe21e9a989",
   "metadata": {},
   "outputs": [],
   "source": [
    "X, y = make_blobs(n_samples=100, n_features=2, centers=2, random_state=0)"
   ]
  },
  {
   "cell_type": "code",
   "execution_count": null,
   "id": "7ef0155e-4d6a-4eb7-bb6c-83342268c0e1",
   "metadata": {},
   "outputs": [],
   "source": [
    "X.shape"
   ]
  },
  {
   "cell_type": "code",
   "execution_count": null,
   "id": "751bdc36-f745-4dc5-8d28-5d128d042de5",
   "metadata": {},
   "outputs": [],
   "source": [
    "y.shape"
   ]
  },
  {
   "cell_type": "code",
   "execution_count": null,
   "id": "a7311914-f7de-4adc-ba2a-16492278d925",
   "metadata": {},
   "outputs": [],
   "source": [
    "y = y.reshape(y.shape[0],1)"
   ]
  },
  {
   "cell_type": "code",
   "execution_count": null,
   "id": "e6f54918-e9ba-48a6-90e5-ed408d572179",
   "metadata": {},
   "outputs": [],
   "source": [
    "y.shape"
   ]
  },
  {
   "cell_type": "code",
   "execution_count": null,
   "id": "2f248ebf-009d-488f-ae30-45e12e1af9eb",
   "metadata": {},
   "outputs": [],
   "source": [
    "plt.scatter(X[:,0], X[:,1], c=y, cmap='summer')\n",
    "plt.show()"
   ]
  },
  {
   "cell_type": "code",
   "execution_count": null,
   "id": "c1782e93-b28d-447a-b564-08e64543792a",
   "metadata": {},
   "outputs": [],
   "source": [
    "Percep1 = Perceptron(2)"
   ]
  },
  {
   "cell_type": "code",
   "execution_count": null,
   "id": "5ee7092d",
   "metadata": {},
   "outputs": [],
   "source": [
    "training_loss = Percep1.fit(X, y, 0.1, 1000)"
   ]
  },
  {
   "cell_type": "code",
   "execution_count": null,
   "id": "95a9d96d",
   "metadata": {},
   "outputs": [],
   "source": [
    "plt.plot(training_loss)\n",
    "plt.show()"
   ]
  },
  {
   "cell_type": "code",
   "execution_count": null,
   "id": "f538addd",
   "metadata": {},
   "outputs": [],
   "source": [
    "y_pred = Percep1.predict(X)[1]"
   ]
  },
  {
   "cell_type": "code",
   "execution_count": null,
   "id": "70604961",
   "metadata": {},
   "outputs": [],
   "source": [
    "acc = accuracy(y, y_pred)\n",
    "prec = precision(y, y_pred)\n",
    "rec = recall(y, y_pred)"
   ]
  },
  {
   "cell_type": "code",
   "execution_count": null,
   "id": "ad53acab",
   "metadata": {},
   "outputs": [],
   "source": [
    "acc"
   ]
  },
  {
   "cell_type": "code",
   "execution_count": null,
   "id": "346fa98d",
   "metadata": {},
   "outputs": [],
   "source": [
    "prec"
   ]
  },
  {
   "cell_type": "code",
   "execution_count": null,
   "id": "04a3e769",
   "metadata": {},
   "outputs": [],
   "source": [
    "rec"
   ]
  },
  {
   "attachments": {},
   "cell_type": "markdown",
   "id": "f7456ab7",
   "metadata": {},
   "source": [
    "### Perceptron on Cat & Dog classification"
   ]
  },
  {
   "cell_type": "code",
   "execution_count": null,
   "id": "f047306f",
   "metadata": {},
   "outputs": [],
   "source": [
    "X_train, y_train, X_test, y_test = load_data_machinelearnia()"
   ]
  },
  {
   "cell_type": "code",
   "execution_count": null,
   "id": "63e375bc",
   "metadata": {},
   "outputs": [],
   "source": [
    "X_train.shape"
   ]
  },
  {
   "cell_type": "code",
   "execution_count": null,
   "id": "0ac564b7",
   "metadata": {},
   "outputs": [],
   "source": [
    "y_train.shape"
   ]
  },
  {
   "cell_type": "code",
   "execution_count": null,
   "id": "57266a0b",
   "metadata": {},
   "outputs": [],
   "source": [
    "X_test.shape"
   ]
  },
  {
   "cell_type": "code",
   "execution_count": null,
   "id": "82140c05",
   "metadata": {},
   "outputs": [],
   "source": [
    "y_test.shape"
   ]
  },
  {
   "cell_type": "code",
   "execution_count": null,
   "id": "97c02930",
   "metadata": {},
   "outputs": [],
   "source": [
    "plt.imshow(X_train[0], cmap='gray')\n",
    "print(y_train[0])"
   ]
  },
  {
   "cell_type": "code",
   "execution_count": null,
   "id": "0b55a4a0",
   "metadata": {},
   "outputs": [],
   "source": [
    "plt.imshow(X_test[0], cmap='gray')\n",
    "print(y_test[0])"
   ]
  },
  {
   "cell_type": "code",
   "execution_count": null,
   "id": "23f04226",
   "metadata": {},
   "outputs": [],
   "source": [
    "# Normalalization 0 -> 255 to 0 -> 1\n",
    "X_train_nrm = X_train/255\n",
    "X_test_nrm = X_test/255"
   ]
  },
  {
   "cell_type": "code",
   "execution_count": null,
   "id": "ded5d746",
   "metadata": {},
   "outputs": [],
   "source": [
    "plt.imshow(X_train_nrm[0], cmap='gray')\n",
    "print(y_train[0])"
   ]
  },
  {
   "cell_type": "code",
   "execution_count": null,
   "id": "804b0426",
   "metadata": {},
   "outputs": [],
   "source": [
    "plt.imshow(X_test_nrm[0], cmap='gray')\n",
    "print(y_test[0])"
   ]
  },
  {
   "cell_type": "code",
   "execution_count": null,
   "id": "9ac69ff8",
   "metadata": {},
   "outputs": [],
   "source": [
    "# Flattening\n",
    "X_train_fltn = X_train_nrm.reshape(X_train_nrm.shape[0],-1)\n",
    "X_test_fltn = X_test_nrm.reshape(X_test_nrm.shape[0],-1)"
   ]
  },
  {
   "cell_type": "code",
   "execution_count": null,
   "id": "7d4fb985",
   "metadata": {},
   "outputs": [],
   "source": [
    "print(X_test_fltn.shape)\n",
    "print(X_train_fltn.shape)"
   ]
  },
  {
   "cell_type": "code",
   "execution_count": null,
   "id": "75fd662c",
   "metadata": {},
   "outputs": [],
   "source": [
    "nb_input = X_train_fltn.shape[1]\n",
    "Percep2 = Perceptron(nb_input)"
   ]
  },
  {
   "cell_type": "code",
   "execution_count": null,
   "id": "bab71675",
   "metadata": {},
   "outputs": [],
   "source": [
    "training_loss = Percep2.fit(X_train_fltn, y_train, 0.01, 10000, loglosssklearn=False)"
   ]
  },
  {
   "cell_type": "code",
   "execution_count": null,
   "id": "751416f1",
   "metadata": {},
   "outputs": [],
   "source": [
    "plt.plot(training_loss)\n",
    "plt.show()"
   ]
  },
  {
   "cell_type": "code",
   "execution_count": null,
   "id": "9c42fba5",
   "metadata": {},
   "outputs": [],
   "source": [
    "Percep2.Log_Loss(y_train)\n",
    "print(Percep2.loss)"
   ]
  },
  {
   "cell_type": "code",
   "execution_count": null,
   "id": "05e36603",
   "metadata": {},
   "outputs": [],
   "source": [
    "y_pred = Percep2.predict(X_train_fltn)[1]\n",
    "acc = accuracy(y_train, y_pred)\n",
    "prec = precision(y_train, y_pred)\n",
    "rec = recall(y_train, y_pred)"
   ]
  },
  {
   "cell_type": "code",
   "execution_count": null,
   "id": "3bd9fcaf",
   "metadata": {},
   "outputs": [],
   "source": [
    "acc"
   ]
  },
  {
   "cell_type": "code",
   "execution_count": null,
   "id": "e6b891d2",
   "metadata": {},
   "outputs": [],
   "source": [
    "prec"
   ]
  },
  {
   "cell_type": "code",
   "execution_count": null,
   "id": "0bb7459f",
   "metadata": {},
   "outputs": [],
   "source": [
    "rec"
   ]
  },
  {
   "cell_type": "code",
   "execution_count": null,
   "id": "d699fa57",
   "metadata": {},
   "outputs": [],
   "source": [
    "y_pred = Percep2.predict(X_test_fltn)[1]\n",
    "acc = accuracy(y_test, y_pred)\n",
    "prec = precision(y_test, y_pred)\n",
    "rec = recall(y_test, y_pred)"
   ]
  },
  {
   "cell_type": "code",
   "execution_count": null,
   "id": "50a4f66f",
   "metadata": {},
   "outputs": [],
   "source": [
    "acc"
   ]
  },
  {
   "cell_type": "code",
   "execution_count": null,
   "id": "21bc7424",
   "metadata": {},
   "outputs": [],
   "source": [
    "prec"
   ]
  },
  {
   "cell_type": "code",
   "execution_count": null,
   "id": "5f58e73d",
   "metadata": {},
   "outputs": [],
   "source": [
    "rec"
   ]
  },
  {
   "cell_type": "code",
   "execution_count": null,
   "id": "3be4352f",
   "metadata": {},
   "outputs": [],
   "source": [
    "plt.imshow(X_train_fltn, cmap='gray')"
   ]
  },
  {
   "cell_type": "code",
   "execution_count": null,
   "id": "3f56c953",
   "metadata": {},
   "outputs": [],
   "source": [
    "X_train_fltn.shape"
   ]
  },
  {
   "cell_type": "code",
   "execution_count": null,
   "id": "a5d3c0b8",
   "metadata": {},
   "outputs": [],
   "source": []
  },
  {
   "cell_type": "code",
   "execution_count": null,
   "id": "3782fa08",
   "metadata": {},
   "outputs": [],
   "source": []
  }
 ],
 "metadata": {
  "kernelspec": {
   "display_name": "Latest",
   "language": "python",
   "name": "python3"
  },
  "language_info": {
   "codemirror_mode": {
    "name": "ipython",
    "version": 3
   },
   "file_extension": ".py",
   "mimetype": "text/x-python",
   "name": "python",
   "nbconvert_exporter": "python",
   "pygments_lexer": "ipython3",
   "version": "3.8.12"
  },
  "vscode": {
   "interpreter": {
    "hash": "61d8543d35e0220f8195890fd8394c9009e0bce4c6b5b4e55734a5b99bb39d79"
   }
  }
 },
 "nbformat": 4,
 "nbformat_minor": 5
}
